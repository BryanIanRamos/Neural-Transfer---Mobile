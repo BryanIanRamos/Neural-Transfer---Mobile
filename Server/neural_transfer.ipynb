{
  "cells": [
    {
      "cell_type": "markdown",
      "metadata": {
        "id": "QFSvC48w-CTp"
      },
      "source": [
        "# <font style=\"color:RGB(173, 3, 252)\">CSC 126 - GRAPHICS AND VISUAL COMPUTING </font>\n",
        "\n",
        "AUTHOR: James Earl D. Cubillas, M.Sc"
      ]
    },
    {
      "cell_type": "markdown",
      "metadata": {
        "id": "WER5sEuq-CTu"
      },
      "source": [
        "<h1>Neural Transfer</h1>"
      ]
    },
    {
      "cell_type": "markdown",
      "metadata": {
        "id": "-K0kT7XJ-CTu"
      },
      "source": [
        "**Importing Packages**"
      ]
    },
    {
      "cell_type": "code",
      "execution_count": 15,
      "metadata": {
        "id": "XqgV0sj9-CTv"
      },
      "outputs": [],
      "source": [
        "import torch\n",
        "import torch.nn as nn\n",
        "import torch.nn.functional as F\n",
        "import torch.optim as optim\n",
        "\n",
        "from PIL import Image\n",
        "import matplotlib.pyplot as plt\n",
        "\n",
        "import torchvision.transforms as transforms\n",
        "from torchvision.models import vgg19, VGG19_Weights\n",
        "\n",
        "import copy"
      ]
    },
    {
      "cell_type": "code",
      "execution_count": 16,
      "metadata": {
        "id": "uoS_2smZ-CTv"
      },
      "outputs": [],
      "source": [
        "device = torch.device(\"cuda\" if torch.cuda.is_available() else \"cpu\")\n",
        "torch.set_default_device(device)"
      ]
    },
    {
      "cell_type": "markdown",
      "metadata": {
        "id": "vg48hVvM-CTw"
      },
      "source": [
        "**Loading the Images**"
      ]
    },
    {
      "cell_type": "code",
      "execution_count": 17,
      "metadata": {
        "colab": {
          "base_uri": "https://localhost:8080/",
          "height": 356
        },
        "id": "sbqsfTAh-CTw",
        "outputId": "678bd1ad-0420-4b54-cabd-e389d9d36774"
      },
      "outputs": [],
      "source": [
        "imsize = 512 if torch.cuda.is_available() else 128\n",
        "\n",
        "loader = transforms.Compose([\n",
        "    transforms.Resize(imsize),\n",
        "    transforms.ToTensor()])\n",
        "\n",
        "def image_loader(image_name):\n",
        "  image = Image.open(image_name)\n",
        "  image = loader(image).unsqueeze(0)\n",
        "  return image.to(device, torch.float)\n",
        "\n",
        "style_img = image_loader(\"data/dancing.jpg\")\n",
        "content_img = image_loader(\"data/HERO.jpg\")\n",
        "\n",
        "assert style_img.size() == content_img.size(), \\\n",
        "    \"we need to import style and content images of the same size\""
      ]
    },
    {
      "cell_type": "code",
      "execution_count": 18,
      "metadata": {
        "id": "zAoiY5Am-CTw"
      },
      "outputs": [],
      "source": [
        "unloader = transforms.ToPILImage()\n",
        "\n",
        "plt.ion()\n",
        "\n",
        "def imshow(tensor, title=None):\n",
        "    image = tensor.cpu().clone()\n",
        "    image = image.squeeze(0)\n",
        "    image = unloader(image)\n",
        "    plt.imshow(image)\n",
        "    if title is not None:\n",
        "        plt.title(title)\n",
        "    plt.pause(0.001)\n",
        "\n",
        "# plt.figure()\n",
        "# imshow(style_img, title='Style Image')\n",
        "\n",
        "# plt.figure()\n",
        "# imshow(content_img, title='Content Image')"
      ]
    },
    {
      "cell_type": "markdown",
      "metadata": {
        "id": "78vIyrxh-CTx"
      },
      "source": [
        "**Loss Functions**"
      ]
    },
    {
      "cell_type": "markdown",
      "metadata": {
        "id": "D2tkG5AH-CTx"
      },
      "source": [
        "***Content Loss***"
      ]
    },
    {
      "cell_type": "code",
      "execution_count": 19,
      "metadata": {
        "id": "45su-xPI-CTx"
      },
      "outputs": [],
      "source": [
        "class ContentLoss(nn.Module):\n",
        "\n",
        "    def __init__(self, target):\n",
        "      super(ContentLoss, self).__init__()\n",
        "      self.target = target.detach()\n",
        "\n",
        "    def forward(self, input):\n",
        "       self.loss = F.mse_loss(input, self.target)\n",
        "       return input"
      ]
    },
    {
      "cell_type": "markdown",
      "metadata": {
        "id": "yOoIijl_-CTy"
      },
      "source": [
        "***Style Loss***"
      ]
    },
    {
      "cell_type": "code",
      "execution_count": 20,
      "metadata": {
        "id": "siLKlv9t-CTy"
      },
      "outputs": [],
      "source": [
        "def gram_matrix(input):\n",
        "    a, b, c, d = input.size()\n",
        "\n",
        "    features = input.view(a * b, c * d)\n",
        "\n",
        "    G = torch.mm(features, features.t())\n",
        "\n",
        "    return G.div(a * b * c * d)\n",
        "\n",
        "class StyleLoss(nn.Module):\n",
        "\n",
        "    def __init__(self, target_feature):\n",
        "        super(StyleLoss, self).__init__()\n",
        "        self.target = gram_matrix(target_feature).detach()\n",
        "\n",
        "    def forward(self, input):\n",
        "        G = gram_matrix(input)\n",
        "        self.loss = F.mse_loss(G, self.target)\n",
        "        return input\n"
      ]
    },
    {
      "cell_type": "markdown",
      "metadata": {
        "id": "ePivTAq5-CTy"
      },
      "source": [
        "**Importing the Model**"
      ]
    },
    {
      "cell_type": "code",
      "execution_count": 21,
      "metadata": {
        "id": "yQsfA_zM-CTy"
      },
      "outputs": [],
      "source": [
        "cnn = vgg19(weights=VGG19_Weights.DEFAULT).features.eval()"
      ]
    },
    {
      "cell_type": "code",
      "execution_count": 22,
      "metadata": {
        "id": "6uAsIt_Q-CTz"
      },
      "outputs": [],
      "source": [
        "cnn_normalization_mean = torch.tensor([0.485, 0.456, 0.406])\n",
        "cnn_normalization_std = torch.tensor([0.229, 0.224, 0.225])\n",
        "\n",
        "class Normalization(nn.Module):\n",
        "    def __init__(self, mean, std):\n",
        "        super(Normalization, self).__init__()\n",
        "        \n",
        "        self.mean = torch.tensor(mean).view(-1, 1, 1)\n",
        "        self.std = torch.tensor(std).view(-1, 1, 1)\n",
        "\n",
        "    def forward(self, img):\n",
        "        return (img - self.mean) / self.std"
      ]
    },
    {
      "cell_type": "code",
      "execution_count": 23,
      "metadata": {
        "id": "K3ErH7_J-CTz"
      },
      "outputs": [],
      "source": [
        "#Sequential\n",
        "\n",
        "# desired depth layers to compute style/content losses :\n",
        "content_layers_default = ['conv_4']\n",
        "style_layers_default = ['conv_1', 'conv_2', 'conv_3', 'conv_4', 'conv_5']\n",
        "\n",
        "def get_style_model_and_losses(cnn, normalization_mean, normalization_std,\n",
        "                               style_img, content_img,\n",
        "                               content_layers=content_layers_default,\n",
        "                               style_layers=style_layers_default):\n",
        "    # normalization module\n",
        "    normalization = Normalization(normalization_mean, normalization_std)\n",
        "\n",
        "    # just in order to have an iterable access to or list of content/style\n",
        "    # losses\n",
        "    content_losses = []\n",
        "    style_losses = []\n",
        "\n",
        "    # assuming that ``cnn`` is a ``nn.Sequential``, so we make a new ``nn.Sequential``\n",
        "    # to put in modules that are supposed to be activated sequentially\n",
        "    model = nn.Sequential(normalization)\n",
        "\n",
        "    i = 0  # increment every time we see a conv\n",
        "    for layer in cnn.children():\n",
        "        if isinstance(layer, nn.Conv2d):\n",
        "            i += 1\n",
        "            name = 'conv_{}'.format(i)\n",
        "        elif isinstance(layer, nn.ReLU):\n",
        "            name = 'relu_{}'.format(i)\n",
        "            # The in-place version doesn't play very nicely with the ``ContentLoss``\n",
        "            # and ``StyleLoss`` we insert below. So we replace with out-of-place\n",
        "            # ones here.\n",
        "            layer = nn.ReLU(inplace=False)\n",
        "        elif isinstance(layer, nn.MaxPool2d):\n",
        "            name = 'pool_{}'.format(i)\n",
        "        elif isinstance(layer, nn.BatchNorm2d):\n",
        "            name = 'bn_{}'.format(i)\n",
        "        else:\n",
        "            raise RuntimeError('Unrecognized layer: {}'.format(layer.__class__.__name__))\n",
        "\n",
        "        model.add_module(name, layer)\n",
        "\n",
        "        if name in content_layers:\n",
        "            # add content loss:\n",
        "            target = model(content_img).detach()\n",
        "            content_loss = ContentLoss(target)\n",
        "            model.add_module(\"content_loss_{}\".format(i), content_loss)\n",
        "            content_losses.append(content_loss)\n",
        "\n",
        "        if name in style_layers:\n",
        "            # add style loss:\n",
        "            target_feature = model(style_img).detach()\n",
        "            style_loss = StyleLoss(target_feature)\n",
        "            model.add_module(\"style_loss_{}\".format(i), style_loss)\n",
        "            style_losses.append(style_loss)\n",
        "\n",
        "    # now we trim off the layers after the last content and style losses\n",
        "    for i in range(len(model) - 1, -1, -1):\n",
        "        if isinstance(model[i], ContentLoss) or isinstance(model[i], StyleLoss):\n",
        "            break\n",
        "\n",
        "    model = model[:(i + 1)]\n",
        "\n",
        "    return model, style_losses, content_losses"
      ]
    },
    {
      "cell_type": "markdown",
      "metadata": {
        "id": "zAykdfEe-CT1"
      },
      "source": [
        "**Content Image or White noise**"
      ]
    },
    {
      "cell_type": "code",
      "execution_count": 24,
      "metadata": {
        "id": "91QDPZEo-CT1"
      },
      "outputs": [],
      "source": [
        "input_img = content_img.clone()\n",
        "# if you want to use white noise by using the following code:\n",
        "#\n",
        "# .. code-block:: python\n",
        "#\n",
        "#    input_img = torch.randn(content_img.data.size())\n",
        "\n",
        "# # add the original input image to the figure:\n",
        "# plt.figure()\n",
        "# imshow(input_img, title='Input Image')"
      ]
    },
    {
      "cell_type": "markdown",
      "metadata": {
        "id": "AFCiga6t-CT2"
      },
      "source": [
        "**Gradient Descent**"
      ]
    },
    {
      "cell_type": "code",
      "execution_count": 25,
      "metadata": {
        "id": "9viX2-aw-CT2"
      },
      "outputs": [],
      "source": [
        "def get_input_optimizer(input_img):\n",
        "    optimizer = optim.LBFGS([input_img])\n",
        "    return optimizer"
      ]
    },
    {
      "cell_type": "markdown",
      "metadata": {
        "id": "-KoC6jFQ-CT2"
      },
      "source": [
        "**Style Transfer Function**"
      ]
    },
    {
      "cell_type": "code",
      "execution_count": 26,
      "metadata": {
        "id": "wMRL5K9q-CT2"
      },
      "outputs": [],
      "source": [
        "def run_style_transfer(cnn, normalization_mean, normalization_std,\n",
        "                       content_img, style_img, input_img, num_steps=1000,\n",
        "                       style_weight=1000000, content_weight=1):\n",
        "    \"\"\"Run the style transfer.\"\"\"\n",
        "    print('Building the style transfer model..')\n",
        "    model, style_losses, content_losses = get_style_model_and_losses(cnn,\n",
        "        normalization_mean, normalization_std, style_img, content_img)\n",
        "\n",
        "    # We want to optimize the input and not the model parameters so we\n",
        "    # update all the requires_grad fields accordingly\n",
        "    input_img.requires_grad_(True)\n",
        "    # We also put the model in evaluation mode, so that specific layers\n",
        "    # such as dropout or batch normalization layers behave correctly.\n",
        "    model.eval()\n",
        "    model.requires_grad_(False)\n",
        "\n",
        "    optimizer = get_input_optimizer(input_img)\n",
        "\n",
        "    print('Optimizing..')\n",
        "    run = [0]\n",
        "    while run[0] <= num_steps:\n",
        "\n",
        "        def closure():\n",
        "            # correct the values of updated input image\n",
        "            with torch.no_grad():\n",
        "                input_img.clamp_(0, 1)\n",
        "\n",
        "            optimizer.zero_grad()\n",
        "            model(input_img)\n",
        "            style_score = 0\n",
        "            content_score = 0\n",
        "\n",
        "            for sl in style_losses:\n",
        "                style_score += sl.loss\n",
        "            for cl in content_losses:\n",
        "                content_score += cl.loss\n",
        "\n",
        "            style_score *= style_weight\n",
        "            content_score *= content_weight\n",
        "\n",
        "            loss = style_score + content_score\n",
        "            loss.backward()\n",
        "\n",
        "            run[0] += 1\n",
        "            if run[0] % 50 == 0:\n",
        "                print(\"run {}:\".format(run))\n",
        "                print('Style Loss : {:4f} Content Loss: {:4f}'.format(\n",
        "                    style_score.item(), content_score.item()))\n",
        "                print()\n",
        "\n",
        "            return style_score + content_score\n",
        "\n",
        "        optimizer.step(closure)\n",
        "\n",
        "    # a last correction...\n",
        "    with torch.no_grad():\n",
        "        input_img.clamp_(0, 1)\n",
        "\n",
        "    return input_img"
      ]
    },
    {
      "cell_type": "markdown",
      "metadata": {
        "id": "ViIcV3jw-CT3"
      },
      "source": [
        "***Run the Algorithm***"
      ]
    },
    {
      "cell_type": "code",
      "execution_count": 27,
      "metadata": {
        "id": "WIeJlTZL-CT3"
      },
      "outputs": [
        {
          "name": "stdout",
          "output_type": "stream",
          "text": [
            "Building the style transfer model..\n",
            "Optimizing..\n",
            "run [50]:\n",
            "Style Loss : 42.706814 Content Loss: 28.718853\n",
            "\n",
            "run [100]:\n",
            "Style Loss : 21.675623 Content Loss: 25.372652\n",
            "\n",
            "run [150]:\n",
            "Style Loss : 11.933815 Content Loss: 23.826593\n",
            "\n",
            "run [200]:\n",
            "Style Loss : 7.599617 Content Loss: 22.816586\n",
            "\n",
            "run [250]:\n",
            "Style Loss : 5.722793 Content Loss: 21.996023\n",
            "\n",
            "run [300]:\n",
            "Style Loss : 4.537966 Content Loss: 21.437807\n",
            "\n",
            "run [350]:\n",
            "Style Loss : 3.869631 Content Loss: 21.026989\n",
            "\n",
            "run [400]:\n",
            "Style Loss : 3.483306 Content Loss: 20.720131\n",
            "\n",
            "run [450]:\n",
            "Style Loss : 3.268522 Content Loss: 20.480373\n",
            "\n",
            "run [500]:\n",
            "Style Loss : 3.106271 Content Loss: 20.332073\n",
            "\n",
            "run [550]:\n",
            "Style Loss : 2.991165 Content Loss: 20.223894\n",
            "\n",
            "run [600]:\n",
            "Style Loss : 2.908066 Content Loss: 20.140110\n",
            "\n",
            "run [650]:\n",
            "Style Loss : 2.855959 Content Loss: 20.060360\n",
            "\n",
            "run [700]:\n",
            "Style Loss : 2.825389 Content Loss: 19.991444\n",
            "\n",
            "run [750]:\n",
            "Style Loss : 2.791474 Content Loss: 19.939812\n",
            "\n",
            "run [800]:\n",
            "Style Loss : 2.765537 Content Loss: 19.889297\n",
            "\n",
            "run [850]:\n",
            "Style Loss : 2.736347 Content Loss: 19.842335\n",
            "\n",
            "run [900]:\n",
            "Style Loss : 2.710439 Content Loss: 19.799927\n",
            "\n",
            "run [950]:\n",
            "Style Loss : 2.694583 Content Loss: 19.765463\n",
            "\n",
            "run [1000]:\n",
            "Style Loss : 2.680734 Content Loss: 19.736368\n",
            "\n"
          ]
        }
      ],
      "source": [
        "output = run_style_transfer(cnn, cnn_normalization_mean, cnn_normalization_std,\n",
        "                            content_img, style_img, input_img)\n",
        "\n",
        "# plt.figure()\n",
        "# imshow(output, title='Output Image')\n",
        "\n",
        "plt.ioff()\n",
        "plt.show()"
      ]
    },
    {
      "cell_type": "markdown",
      "metadata": {
        "id": "J3RfFkat-CT3"
      },
      "source": [
        "***Save the Transformed Image with the Art Style***"
      ]
    },
    {
      "cell_type": "code",
      "execution_count": 28,
      "metadata": {
        "id": "OmDwsltH-CT3"
      },
      "outputs": [
        {
          "data": {
            "image/jpeg": "[encoded data removed]",
            "image/png": "[encoded data removed]",
            "text/plain": [
              "<PIL.Image.Image image mode=RGB size=128x128>"
            ]
          },
          "execution_count": 28,
          "metadata": {},
          "output_type": "execute_result"
        }
      ],
      "source": [
        "out_t = (output.data.squeeze())\n",
        "output_img = transforms.ToPILImage()(out_t)\n",
        "output_img.save('output.png')\n",
        "output_img"
      ]
    }
  ],
  "metadata": {
    "colab": {
      "provenance": []
    },
    "kernelspec": {
      "display_name": "MINEGEARS",
      "language": "python",
      "name": "python3"
    },
    "language_info": {
      "codemirror_mode": {
        "name": "ipython",
        "version": 3
      },
      "file_extension": ".py",
      "mimetype": "text/x-python",
      "name": "python",
      "nbconvert_exporter": "python",
      "pygments_lexer": "ipython3",
      "version": "3.10.8"
    }
  },
  "nbformat": 4,
  "nbformat_minor": 0
}
